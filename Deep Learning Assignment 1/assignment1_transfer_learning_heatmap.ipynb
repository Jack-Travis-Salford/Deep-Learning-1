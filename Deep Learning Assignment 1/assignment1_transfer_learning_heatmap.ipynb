{
 "cells": [
  {
   "cell_type": "code",
   "execution_count": 1,
   "outputs": [],
   "source": [
    "from keras import models\n",
    "import numpy as np\n",
    "import matplotlib.pyplot as plt\n",
    "from keras.preprocessing import image\n",
    "\n",
    "def display_feature_maps(network,img_array,layer_no, no_cols=4):\n",
    "\n",
    "    layer_outputs = [layer.output for layer in network.layers]\n",
    "    activations_model = models.Model(inputs=network.input, outputs = layer_outputs)\n",
    "    activations = activations_model.predict(img_array)\n",
    "\n",
    "    # collect images in list\n",
    "\n",
    "    no_maps = np.shape(activations[layer_no])[-1]\n",
    "    print(\"layer %d, no maps %d\"%(layer_no, no_maps))\n",
    "    fmaps =activations[layer_no]\n",
    "    img_list = []\n",
    "    for i in range(no_maps):\n",
    "        img = fmaps[0,:,:,i]\n",
    "        img_list.append(img)\n",
    "\n",
    "    #    display images in no_cols\n",
    "\n",
    "    no_rows = no_maps // no_cols\n",
    "    i = 0\n",
    "    for row in range(no_rows):\n",
    "        fig, axs = plt.subplots(1, no_cols,figsize=(18,18))\n",
    "        for col in range(no_cols):\n",
    "            axs[col].axis('off')\n",
    "            axs[col].imshow(img_list[i])\n",
    "            axs[col].set_title(str(i))\n",
    "            i +=1\n",
    "\n",
    "        plt.show()\n",
    "\n",
    "def get_index(network,layer_name):\n",
    "    layer_names = [layer.name for layer in network.layers]\n",
    "    return layer_names.index(layer_name)"
   ],
   "metadata": {
    "collapsed": false
   }
  },
  {
   "cell_type": "code",
   "execution_count": 2,
   "outputs": [
    {
     "name": "stdout",
     "output_type": "stream",
     "text": [
      "Found 1929 images belonging to 10 classes.\n",
      "Found 548 images belonging to 10 classes.\n",
      "Found 287 images belonging to 10 classes.\n"
     ]
    }
   ],
   "source": [
    "import keras.losses\n",
    "from keras.preprocessing.image import ImageDataGenerator\n",
    "import os\n",
    "\n",
    "base_dir = 'C:\\\\--Mine\\\\My Files\\\\Uni\\\\Y3\\\\Deep Learning\\\\assignment\\\\signlang'\n",
    "\n",
    "train_dir = os.path.join(base_dir,'train')\n",
    "test_dir = os.path.join(base_dir,'test')\n",
    "val_dir = os.path.join(base_dir,'val')\n",
    "\n",
    "train_datagen = ImageDataGenerator(rescale=1./255)\n",
    "test_datagen = ImageDataGenerator(rescale=1./255)\n",
    "val_datagen = ImageDataGenerator(rescale=1./255)\n",
    "\n",
    "\n",
    "\n",
    "train_generator = train_datagen.flow_from_directory(train_dir,target_size=(100,100),batch_size=20, class_mode='categorical')\n",
    "val_generator = val_datagen.flow_from_directory(val_dir,target_size=(100,100),batch_size=20, class_mode='categorical')\n",
    "\n",
    "\n",
    "\n",
    "test_generator = test_datagen.flow_from_directory(test_dir,target_size=(100,100),batch_size=20, class_mode='categorical', shuffle=False)\n",
    "\n"
   ],
   "metadata": {
    "collapsed": false
   }
  },
  {
   "cell_type": "code",
   "execution_count": 3,
   "outputs": [],
   "source": [
    "#test generators\n",
    "\n",
    "import matplotlib.pyplot as plt\n",
    "\n",
    "#for data_batch, label_batch in train_generator:\n",
    "#    print('data batch shape', data_batch.shape)\n",
    "#    print('label batch shape', label_batch.shape)\n",
    "#    print('sample data shape', data_batch[1].shape)\n",
    "#    print('sample 20 labels', label_batch)\n",
    "#    break\n",
    "\n",
    "\n",
    "\n",
    "#fig=plt.figure(figsize=(20,20))\n",
    "#columns = 3\n",
    "#rows = 2\n",
    "#for i in range(1,7):\n",
    "#    img = data_batch[i]\n",
    "#    ax=fig.add_subplot(rows, columns, i)\n",
    "#    plt.subplots_adjust(hspace=None,wspace=0.01)\n",
    "#    ax.title.set_text(str(i)+\" label=\" + str(label_batch[i]))\n",
    "#    plt.imshow(img)\n",
    "#plt.show()"
   ],
   "metadata": {
    "collapsed": false
   }
  },
  {
   "cell_type": "code",
   "execution_count": 17,
   "outputs": [
    {
     "ename": "ValueError",
     "evalue": "Input 0 of layer \"global_average_pooling1d\" is incompatible with the layer: expected ndim=3, found ndim=4. Full shape received: (None, 3, 3, 512)",
     "output_type": "error",
     "traceback": [
      "\u001B[1;31m---------------------------------------------------------------------------\u001B[0m",
      "\u001B[1;31mValueError\u001B[0m                                Traceback (most recent call last)",
      "\u001B[1;32m~\\AppData\\Local\\Temp\\ipykernel_19748\\1603378956.py\u001B[0m in \u001B[0;36m<module>\u001B[1;34m\u001B[0m\n\u001B[0;32m      7\u001B[0m \u001B[0mnetwork\u001B[0m\u001B[1;33m.\u001B[0m\u001B[0madd\u001B[0m\u001B[1;33m(\u001B[0m\u001B[0mvgg_base\u001B[0m\u001B[1;33m)\u001B[0m\u001B[1;33m\u001B[0m\u001B[1;33m\u001B[0m\u001B[0m\n\u001B[0;32m      8\u001B[0m \u001B[1;31m#network.add(layers.Flatten())\u001B[0m\u001B[1;33m\u001B[0m\u001B[1;33m\u001B[0m\u001B[0m\n\u001B[1;32m----> 9\u001B[1;33m \u001B[0mnetwork\u001B[0m\u001B[1;33m.\u001B[0m\u001B[0madd\u001B[0m\u001B[1;33m(\u001B[0m\u001B[0mlayers\u001B[0m\u001B[1;33m.\u001B[0m\u001B[0mGlobalAvgPool1D\u001B[0m\u001B[1;33m(\u001B[0m\u001B[1;33m)\u001B[0m\u001B[1;33m)\u001B[0m\u001B[1;33m\u001B[0m\u001B[1;33m\u001B[0m\u001B[0m\n\u001B[0m\u001B[0;32m     10\u001B[0m \u001B[1;33m\u001B[0m\u001B[0m\n\u001B[0;32m     11\u001B[0m \u001B[0mnetwork\u001B[0m\u001B[1;33m.\u001B[0m\u001B[0madd\u001B[0m\u001B[1;33m(\u001B[0m\u001B[0mlayers\u001B[0m\u001B[1;33m.\u001B[0m\u001B[0mDropout\u001B[0m\u001B[1;33m(\u001B[0m\u001B[1;36m0.5\u001B[0m\u001B[1;33m)\u001B[0m\u001B[1;33m)\u001B[0m\u001B[1;33m\u001B[0m\u001B[1;33m\u001B[0m\u001B[0m\n",
      "\u001B[1;32m~\\anaconda3\\lib\\site-packages\\tensorflow\\python\\trackable\\base.py\u001B[0m in \u001B[0;36m_method_wrapper\u001B[1;34m(self, *args, **kwargs)\u001B[0m\n\u001B[0;32m    203\u001B[0m     \u001B[0mself\u001B[0m\u001B[1;33m.\u001B[0m\u001B[0m_self_setattr_tracking\u001B[0m \u001B[1;33m=\u001B[0m \u001B[1;32mFalse\u001B[0m  \u001B[1;31m# pylint: disable=protected-access\u001B[0m\u001B[1;33m\u001B[0m\u001B[1;33m\u001B[0m\u001B[0m\n\u001B[0;32m    204\u001B[0m     \u001B[1;32mtry\u001B[0m\u001B[1;33m:\u001B[0m\u001B[1;33m\u001B[0m\u001B[1;33m\u001B[0m\u001B[0m\n\u001B[1;32m--> 205\u001B[1;33m       \u001B[0mresult\u001B[0m \u001B[1;33m=\u001B[0m \u001B[0mmethod\u001B[0m\u001B[1;33m(\u001B[0m\u001B[0mself\u001B[0m\u001B[1;33m,\u001B[0m \u001B[1;33m*\u001B[0m\u001B[0margs\u001B[0m\u001B[1;33m,\u001B[0m \u001B[1;33m**\u001B[0m\u001B[0mkwargs\u001B[0m\u001B[1;33m)\u001B[0m\u001B[1;33m\u001B[0m\u001B[1;33m\u001B[0m\u001B[0m\n\u001B[0m\u001B[0;32m    206\u001B[0m     \u001B[1;32mfinally\u001B[0m\u001B[1;33m:\u001B[0m\u001B[1;33m\u001B[0m\u001B[1;33m\u001B[0m\u001B[0m\n\u001B[0;32m    207\u001B[0m       \u001B[0mself\u001B[0m\u001B[1;33m.\u001B[0m\u001B[0m_self_setattr_tracking\u001B[0m \u001B[1;33m=\u001B[0m \u001B[0mprevious_value\u001B[0m  \u001B[1;31m# pylint: disable=protected-access\u001B[0m\u001B[1;33m\u001B[0m\u001B[1;33m\u001B[0m\u001B[0m\n",
      "\u001B[1;32m~\\anaconda3\\lib\\site-packages\\keras\\utils\\traceback_utils.py\u001B[0m in \u001B[0;36merror_handler\u001B[1;34m(*args, **kwargs)\u001B[0m\n\u001B[0;32m     68\u001B[0m             \u001B[1;31m# To get the full stack trace, call:\u001B[0m\u001B[1;33m\u001B[0m\u001B[1;33m\u001B[0m\u001B[0m\n\u001B[0;32m     69\u001B[0m             \u001B[1;31m# `tf.debugging.disable_traceback_filtering()`\u001B[0m\u001B[1;33m\u001B[0m\u001B[1;33m\u001B[0m\u001B[0m\n\u001B[1;32m---> 70\u001B[1;33m             \u001B[1;32mraise\u001B[0m \u001B[0me\u001B[0m\u001B[1;33m.\u001B[0m\u001B[0mwith_traceback\u001B[0m\u001B[1;33m(\u001B[0m\u001B[0mfiltered_tb\u001B[0m\u001B[1;33m)\u001B[0m \u001B[1;32mfrom\u001B[0m \u001B[1;32mNone\u001B[0m\u001B[1;33m\u001B[0m\u001B[1;33m\u001B[0m\u001B[0m\n\u001B[0m\u001B[0;32m     71\u001B[0m         \u001B[1;32mfinally\u001B[0m\u001B[1;33m:\u001B[0m\u001B[1;33m\u001B[0m\u001B[1;33m\u001B[0m\u001B[0m\n\u001B[0;32m     72\u001B[0m             \u001B[1;32mdel\u001B[0m \u001B[0mfiltered_tb\u001B[0m\u001B[1;33m\u001B[0m\u001B[1;33m\u001B[0m\u001B[0m\n",
      "\u001B[1;32m~\\anaconda3\\lib\\site-packages\\keras\\engine\\input_spec.py\u001B[0m in \u001B[0;36massert_input_compatibility\u001B[1;34m(input_spec, inputs, layer_name)\u001B[0m\n\u001B[0;32m    230\u001B[0m             \u001B[0mndim\u001B[0m \u001B[1;33m=\u001B[0m \u001B[0mshape\u001B[0m\u001B[1;33m.\u001B[0m\u001B[0mrank\u001B[0m\u001B[1;33m\u001B[0m\u001B[1;33m\u001B[0m\u001B[0m\n\u001B[0;32m    231\u001B[0m             \u001B[1;32mif\u001B[0m \u001B[0mndim\u001B[0m \u001B[1;33m!=\u001B[0m \u001B[0mspec\u001B[0m\u001B[1;33m.\u001B[0m\u001B[0mndim\u001B[0m\u001B[1;33m:\u001B[0m\u001B[1;33m\u001B[0m\u001B[1;33m\u001B[0m\u001B[0m\n\u001B[1;32m--> 232\u001B[1;33m                 raise ValueError(\n\u001B[0m\u001B[0;32m    233\u001B[0m                     \u001B[1;34mf'Input {input_index} of layer \"{layer_name}\" '\u001B[0m\u001B[1;33m\u001B[0m\u001B[1;33m\u001B[0m\u001B[0m\n\u001B[0;32m    234\u001B[0m                     \u001B[1;34m\"is incompatible with the layer: \"\u001B[0m\u001B[1;33m\u001B[0m\u001B[1;33m\u001B[0m\u001B[0m\n",
      "\u001B[1;31mValueError\u001B[0m: Input 0 of layer \"global_average_pooling1d\" is incompatible with the layer: expected ndim=3, found ndim=4. Full shape received: (None, 3, 3, 512)"
     ]
    }
   ],
   "source": [
    "from keras import models, layers\n",
    "\n",
    "\n",
    "from keras.applications import VGG16\n",
    "vgg_base = VGG16(weights='imagenet', include_top=False,input_shape=(100,100,3))\n",
    "network = models.Sequential()\n",
    "network.add(vgg_base)\n",
    "network.add(layers.Flatten())\n",
    "\n",
    "network.add(layers.Dropout(0.5))\n",
    "\n",
    "network.add(layers.Dense(512, activation='relu'))\n",
    "network.add(layers.Dense(10,activation='sigmoid'))\n",
    "\n",
    "network.summary()"
   ],
   "metadata": {
    "collapsed": false
   }
  },
  {
   "cell_type": "code",
   "execution_count": 5,
   "outputs": [
    {
     "name": "stdout",
     "output_type": "stream",
     "text": [
      "Epoch 1/30\n",
      "97/97 [==============================] - 24s 44ms/step - loss: 1.6244 - acc: 0.4287 - val_loss: 0.3264 - val_acc: 0.9142\n",
      "Epoch 2/30\n",
      "97/97 [==============================] - 3s 32ms/step - loss: 0.3511 - acc: 0.8823 - val_loss: 0.1248 - val_acc: 0.9617\n",
      "Epoch 3/30\n",
      "97/97 [==============================] - 3s 32ms/step - loss: 0.1332 - acc: 0.9570 - val_loss: 0.0829 - val_acc: 0.9708\n",
      "Epoch 4/30\n",
      "97/97 [==============================] - 3s 36ms/step - loss: 0.0811 - acc: 0.9793 - val_loss: 0.0690 - val_acc: 0.9781\n",
      "Epoch 5/30\n",
      "97/97 [==============================] - 3s 34ms/step - loss: 0.0548 - acc: 0.9850 - val_loss: 0.0387 - val_acc: 0.9872\n",
      "Epoch 6/30\n",
      "97/97 [==============================] - 3s 33ms/step - loss: 0.0487 - acc: 0.9886 - val_loss: 0.0311 - val_acc: 0.9891\n",
      "Epoch 7/30\n",
      "97/97 [==============================] - 3s 33ms/step - loss: 0.0197 - acc: 0.9953 - val_loss: 0.0472 - val_acc: 0.9818\n",
      "Epoch 8/30\n",
      "97/97 [==============================] - 3s 32ms/step - loss: 0.0318 - acc: 0.9907 - val_loss: 0.0514 - val_acc: 0.9872\n",
      "Epoch 9/30\n",
      "97/97 [==============================] - 3s 33ms/step - loss: 0.0156 - acc: 0.9959 - val_loss: 0.0308 - val_acc: 0.9891\n",
      "Epoch 10/30\n",
      "97/97 [==============================] - 3s 32ms/step - loss: 0.0124 - acc: 0.9969 - val_loss: 0.0581 - val_acc: 0.9818\n",
      "Epoch 11/30\n",
      "97/97 [==============================] - 3s 33ms/step - loss: 0.0195 - acc: 0.9948 - val_loss: 0.0695 - val_acc: 0.9854\n",
      "Epoch 12/30\n",
      "97/97 [==============================] - 3s 32ms/step - loss: 0.0163 - acc: 0.9948 - val_loss: 0.0574 - val_acc: 0.9763\n",
      "Epoch 13/30\n",
      "97/97 [==============================] - 3s 33ms/step - loss: 0.0160 - acc: 0.9964 - val_loss: 0.0382 - val_acc: 0.9909\n",
      "Epoch 14/30\n",
      "97/97 [==============================] - 3s 32ms/step - loss: 0.0294 - acc: 0.9917 - val_loss: 0.0295 - val_acc: 0.9854\n",
      "Epoch 15/30\n",
      "97/97 [==============================] - 3s 32ms/step - loss: 0.0081 - acc: 0.9974 - val_loss: 0.0230 - val_acc: 0.9964\n",
      "Epoch 16/30\n",
      "97/97 [==============================] - 3s 33ms/step - loss: 0.0037 - acc: 0.9990 - val_loss: 0.0274 - val_acc: 0.9891\n",
      "Epoch 17/30\n",
      "97/97 [==============================] - 3s 32ms/step - loss: 0.0024 - acc: 0.9990 - val_loss: 0.0231 - val_acc: 0.9964\n",
      "Epoch 18/30\n",
      "97/97 [==============================] - 3s 32ms/step - loss: 0.0155 - acc: 0.9959 - val_loss: 0.0302 - val_acc: 0.9891\n",
      "Epoch 19/30\n",
      "97/97 [==============================] - 3s 32ms/step - loss: 0.0070 - acc: 0.9984 - val_loss: 0.0407 - val_acc: 0.9799\n",
      "Epoch 20/30\n",
      "97/97 [==============================] - 3s 32ms/step - loss: 0.0035 - acc: 0.9984 - val_loss: 0.0231 - val_acc: 0.9927\n",
      "Epoch 21/30\n",
      "97/97 [==============================] - 3s 33ms/step - loss: 0.0030 - acc: 0.9990 - val_loss: 0.0152 - val_acc: 0.9964\n",
      "Epoch 22/30\n",
      "97/97 [==============================] - 3s 32ms/step - loss: 0.0050 - acc: 0.9995 - val_loss: 0.0205 - val_acc: 0.9964\n",
      "Epoch 23/30\n",
      "97/97 [==============================] - 3s 32ms/step - loss: 0.0043 - acc: 0.9990 - val_loss: 0.0328 - val_acc: 0.9891\n",
      "Epoch 24/30\n",
      "97/97 [==============================] - 3s 32ms/step - loss: 0.0048 - acc: 0.9984 - val_loss: 0.0185 - val_acc: 0.9964\n",
      "Epoch 25/30\n",
      "97/97 [==============================] - 3s 32ms/step - loss: 7.8598e-04 - acc: 1.0000 - val_loss: 0.0166 - val_acc: 0.9964\n",
      "Epoch 26/30\n",
      "97/97 [==============================] - 3s 33ms/step - loss: 0.0014 - acc: 0.9995 - val_loss: 0.0129 - val_acc: 0.9964\n",
      "Epoch 27/30\n",
      "97/97 [==============================] - 3s 32ms/step - loss: 0.0015 - acc: 0.9995 - val_loss: 0.0182 - val_acc: 0.9964\n",
      "Epoch 28/30\n",
      "97/97 [==============================] - 3s 32ms/step - loss: 6.7372e-04 - acc: 1.0000 - val_loss: 0.0195 - val_acc: 0.9964\n",
      "Epoch 29/30\n",
      "97/97 [==============================] - 3s 32ms/step - loss: 2.2440e-04 - acc: 1.0000 - val_loss: 0.0189 - val_acc: 0.9964\n",
      "Epoch 30/30\n",
      "97/97 [==============================] - 3s 32ms/step - loss: 2.0952e-04 - acc: 1.0000 - val_loss: 0.0195 - val_acc: 0.9964\n"
     ]
    }
   ],
   "source": [
    "from keras import optimizers\n",
    "#network.compile(loss='categorical_crossentropy', optimizer= optimizers.RMSprop(learning_rate=1e-5), metrics=['acc'] )\n",
    "\n",
    "network.compile(loss='categorical_crossentropy', optimizer= optimizers.Adam(learning_rate=1e-5), metrics=['acc'] )\n",
    "\n",
    "\n",
    "hist = network.fit(train_generator, steps_per_epoch=97, epochs=30,\n",
    "                   validation_data=val_generator, validation_steps=28)\n",
    "\n"
   ],
   "metadata": {
    "collapsed": false
   }
  },
  {
   "cell_type": "code",
   "execution_count": 6,
   "outputs": [
    {
     "name": "stderr",
     "output_type": "stream",
     "text": [
      "WARNING:absl:Found untraced functions such as _jit_compiled_convolution_op, _jit_compiled_convolution_op, _jit_compiled_convolution_op, _jit_compiled_convolution_op, _jit_compiled_convolution_op while saving (showing 5 of 13). These functions will not be directly callable after loading.\n"
     ]
    },
    {
     "name": "stdout",
     "output_type": "stream",
     "text": [
      "INFO:tensorflow:Assets written to: asl_network\\assets\n"
     ]
    },
    {
     "name": "stderr",
     "output_type": "stream",
     "text": [
      "INFO:tensorflow:Assets written to: asl_network\\assets\n"
     ]
    }
   ],
   "source": [
    "network.save('asl_network')"
   ],
   "metadata": {
    "collapsed": false
   }
  },
  {
   "cell_type": "code",
   "execution_count": 7,
   "outputs": [
    {
     "data": {
      "text/plain": "<Figure size 640x480 with 1 Axes>",
      "image/png": "[encoded data removed]"
     },
     "metadata": {},
     "output_type": "display_data"
    },
    {
     "data": {
      "text/plain": "<Figure size 640x480 with 1 Axes>",
      "image/png": "[encoded data removed]"
     },
     "metadata": {},
     "output_type": "display_data"
    }
   ],
   "source": [
    "#plot results\n",
    "\n",
    "import matplotlib.pyplot as plt\n",
    "acc = hist.history['acc']\n",
    "val_acc = hist.history['val_acc']\n",
    "loss = hist.history['loss']\n",
    "val_loss = hist.history['val_loss']\n",
    "epochs = range(1,len(acc)+1)\n",
    "\n",
    "plt.plot(epochs,acc,'bo', label='Train Acc')\n",
    "plt.plot(epochs,val_acc, 'r', label='Val Acc')\n",
    "plt.title('Accuracy')\n",
    "plt.legend()\n",
    "plt.figure()\n",
    "\n",
    "\n",
    "plt.plot(epochs,loss,'bo', label='Train Loss')\n",
    "plt.plot(epochs,val_loss, 'r', label='Val Loss')\n",
    "plt.title('Loss')\n",
    "plt.legend()\n",
    "\n",
    "plt.show()\n",
    "\n",
    "\n"
   ],
   "metadata": {
    "collapsed": false
   }
  },
  {
   "cell_type": "code",
   "execution_count": 8,
   "outputs": [
    {
     "name": "stdout",
     "output_type": "stream",
     "text": [
      "15/15 [==============================] - 1s 37ms/step - loss: 0.0014 - acc: 1.0000\n",
      "Accuracy on test set: 1.000\n"
     ]
    }
   ],
   "source": [
    "res = network.evaluate(test_generator, steps=15, verbose=1)\n",
    "print('Accuracy on test set: %.3f' % res[1])"
   ],
   "metadata": {
    "collapsed": false
   }
  },
  {
   "cell_type": "code",
   "execution_count": 12,
   "outputs": [
    {
     "name": "stdout",
     "output_type": "stream",
     "text": [
      "Model: \"sequential\"\n",
      "_________________________________________________________________\n",
      " Layer (type)                Output Shape              Param #   \n",
      "=================================================================\n",
      " vgg16 (Functional)          (None, 3, 3, 512)         14714688  \n",
      "                                                                 \n",
      " flatten (Flatten)           (None, 4608)              0         \n",
      "                                                                 \n",
      " dropout (Dropout)           (None, 4608)              0         \n",
      "                                                                 \n",
      " dense (Dense)               (None, 512)               2359808   \n",
      "                                                                 \n",
      " dense_1 (Dense)             (None, 10)                5130      \n",
      "                                                                 \n",
      "=================================================================\n",
      "Total params: 17,079,626\n",
      "Trainable params: 17,079,626\n",
      "Non-trainable params: 0\n",
      "_________________________________________________________________\n"
     ]
    }
   ],
   "source": [
    "network = models.load_model(\"asl_network\")\n",
    "network.summary()"
   ],
   "metadata": {
    "collapsed": false
   }
  },
  {
   "cell_type": "code",
   "execution_count": 35,
   "outputs": [
    {
     "name": "stdout",
     "output_type": "stream",
     "text": [
      "data batch shape (20, 100, 100, 3)\n",
      "label batch shape (20, 10)\n",
      "sample data shape (100, 100, 3)\n"
     ]
    },
    {
     "ename": "ValueError",
     "evalue": "Graph disconnected: cannot obtain value for tensor KerasTensor(type_spec=TensorSpec(shape=(None, 100, 100, 3), dtype=tf.float32, name='input_3'), name='input_3', description=\"created by layer 'input_3'\") at layer \"block1_conv1\". The following previous layers were accessed without issue: []",
     "output_type": "error",
     "traceback": [
      "\u001B[1;31m---------------------------------------------------------------------------\u001B[0m",
      "\u001B[1;31mValueError\u001B[0m                                Traceback (most recent call last)",
      "\u001B[1;32m~\\AppData\\Local\\Temp\\ipykernel_19748\\1502175001.py\u001B[0m in \u001B[0;36m<module>\u001B[1;34m\u001B[0m\n\u001B[0;32m      9\u001B[0m \u001B[1;33m\u001B[0m\u001B[0m\n\u001B[0;32m     10\u001B[0m \u001B[0mlayer_outputs\u001B[0m \u001B[1;33m=\u001B[0m \u001B[1;33m[\u001B[0m\u001B[0mlayer\u001B[0m\u001B[1;33m.\u001B[0m\u001B[0moutput\u001B[0m \u001B[1;32mfor\u001B[0m \u001B[0mlayer\u001B[0m \u001B[1;32min\u001B[0m \u001B[0mnetwork\u001B[0m\u001B[1;33m.\u001B[0m\u001B[0mlayers\u001B[0m\u001B[1;33m]\u001B[0m\u001B[1;33m\u001B[0m\u001B[1;33m\u001B[0m\u001B[0m\n\u001B[1;32m---> 11\u001B[1;33m \u001B[0mactivations_model\u001B[0m \u001B[1;33m=\u001B[0m \u001B[0mmodels\u001B[0m\u001B[1;33m.\u001B[0m\u001B[0mModel\u001B[0m\u001B[1;33m(\u001B[0m\u001B[0minputs\u001B[0m\u001B[1;33m=\u001B[0m\u001B[0mnetwork\u001B[0m\u001B[1;33m.\u001B[0m\u001B[0minput\u001B[0m\u001B[1;33m,\u001B[0m \u001B[0moutputs\u001B[0m \u001B[1;33m=\u001B[0m \u001B[0mlayer_outputs\u001B[0m\u001B[1;33m)\u001B[0m\u001B[1;33m\u001B[0m\u001B[1;33m\u001B[0m\u001B[0m\n\u001B[0m\u001B[0;32m     12\u001B[0m \u001B[0mactivations\u001B[0m \u001B[1;33m=\u001B[0m \u001B[0mactivations_model\u001B[0m\u001B[1;33m.\u001B[0m\u001B[0mpredict\u001B[0m\u001B[1;33m(\u001B[0m\u001B[0mtrain_generator\u001B[0m\u001B[1;33m)\u001B[0m\u001B[1;33m\u001B[0m\u001B[1;33m\u001B[0m\u001B[0m\n\u001B[0;32m     13\u001B[0m \u001B[1;33m\u001B[0m\u001B[0m\n",
      "\u001B[1;32m~\\anaconda3\\lib\\site-packages\\tensorflow\\python\\trackable\\base.py\u001B[0m in \u001B[0;36m_method_wrapper\u001B[1;34m(self, *args, **kwargs)\u001B[0m\n\u001B[0;32m    203\u001B[0m     \u001B[0mself\u001B[0m\u001B[1;33m.\u001B[0m\u001B[0m_self_setattr_tracking\u001B[0m \u001B[1;33m=\u001B[0m \u001B[1;32mFalse\u001B[0m  \u001B[1;31m# pylint: disable=protected-access\u001B[0m\u001B[1;33m\u001B[0m\u001B[1;33m\u001B[0m\u001B[0m\n\u001B[0;32m    204\u001B[0m     \u001B[1;32mtry\u001B[0m\u001B[1;33m:\u001B[0m\u001B[1;33m\u001B[0m\u001B[1;33m\u001B[0m\u001B[0m\n\u001B[1;32m--> 205\u001B[1;33m       \u001B[0mresult\u001B[0m \u001B[1;33m=\u001B[0m \u001B[0mmethod\u001B[0m\u001B[1;33m(\u001B[0m\u001B[0mself\u001B[0m\u001B[1;33m,\u001B[0m \u001B[1;33m*\u001B[0m\u001B[0margs\u001B[0m\u001B[1;33m,\u001B[0m \u001B[1;33m**\u001B[0m\u001B[0mkwargs\u001B[0m\u001B[1;33m)\u001B[0m\u001B[1;33m\u001B[0m\u001B[1;33m\u001B[0m\u001B[0m\n\u001B[0m\u001B[0;32m    206\u001B[0m     \u001B[1;32mfinally\u001B[0m\u001B[1;33m:\u001B[0m\u001B[1;33m\u001B[0m\u001B[1;33m\u001B[0m\u001B[0m\n\u001B[0;32m    207\u001B[0m       \u001B[0mself\u001B[0m\u001B[1;33m.\u001B[0m\u001B[0m_self_setattr_tracking\u001B[0m \u001B[1;33m=\u001B[0m \u001B[0mprevious_value\u001B[0m  \u001B[1;31m# pylint: disable=protected-access\u001B[0m\u001B[1;33m\u001B[0m\u001B[1;33m\u001B[0m\u001B[0m\n",
      "\u001B[1;32m~\\anaconda3\\lib\\site-packages\\keras\\engine\\functional.py\u001B[0m in \u001B[0;36m__init__\u001B[1;34m(self, inputs, outputs, name, trainable, **kwargs)\u001B[0m\n\u001B[0;32m    163\u001B[0m                     \u001B[0minputs\u001B[0m\u001B[1;33m,\u001B[0m \u001B[0moutputs\u001B[0m\u001B[1;33m\u001B[0m\u001B[1;33m\u001B[0m\u001B[0m\n\u001B[0;32m    164\u001B[0m                 )\n\u001B[1;32m--> 165\u001B[1;33m         \u001B[0mself\u001B[0m\u001B[1;33m.\u001B[0m\u001B[0m_init_graph_network\u001B[0m\u001B[1;33m(\u001B[0m\u001B[0minputs\u001B[0m\u001B[1;33m,\u001B[0m \u001B[0moutputs\u001B[0m\u001B[1;33m)\u001B[0m\u001B[1;33m\u001B[0m\u001B[1;33m\u001B[0m\u001B[0m\n\u001B[0m\u001B[0;32m    166\u001B[0m \u001B[1;33m\u001B[0m\u001B[0m\n\u001B[0;32m    167\u001B[0m     \u001B[1;33m@\u001B[0m\u001B[0mtf\u001B[0m\u001B[1;33m.\u001B[0m\u001B[0m__internal__\u001B[0m\u001B[1;33m.\u001B[0m\u001B[0mtracking\u001B[0m\u001B[1;33m.\u001B[0m\u001B[0mno_automatic_dependency_tracking\u001B[0m\u001B[1;33m\u001B[0m\u001B[1;33m\u001B[0m\u001B[0m\n",
      "\u001B[1;32m~\\anaconda3\\lib\\site-packages\\tensorflow\\python\\trackable\\base.py\u001B[0m in \u001B[0;36m_method_wrapper\u001B[1;34m(self, *args, **kwargs)\u001B[0m\n\u001B[0;32m    203\u001B[0m     \u001B[0mself\u001B[0m\u001B[1;33m.\u001B[0m\u001B[0m_self_setattr_tracking\u001B[0m \u001B[1;33m=\u001B[0m \u001B[1;32mFalse\u001B[0m  \u001B[1;31m# pylint: disable=protected-access\u001B[0m\u001B[1;33m\u001B[0m\u001B[1;33m\u001B[0m\u001B[0m\n\u001B[0;32m    204\u001B[0m     \u001B[1;32mtry\u001B[0m\u001B[1;33m:\u001B[0m\u001B[1;33m\u001B[0m\u001B[1;33m\u001B[0m\u001B[0m\n\u001B[1;32m--> 205\u001B[1;33m       \u001B[0mresult\u001B[0m \u001B[1;33m=\u001B[0m \u001B[0mmethod\u001B[0m\u001B[1;33m(\u001B[0m\u001B[0mself\u001B[0m\u001B[1;33m,\u001B[0m \u001B[1;33m*\u001B[0m\u001B[0margs\u001B[0m\u001B[1;33m,\u001B[0m \u001B[1;33m**\u001B[0m\u001B[0mkwargs\u001B[0m\u001B[1;33m)\u001B[0m\u001B[1;33m\u001B[0m\u001B[1;33m\u001B[0m\u001B[0m\n\u001B[0m\u001B[0;32m    206\u001B[0m     \u001B[1;32mfinally\u001B[0m\u001B[1;33m:\u001B[0m\u001B[1;33m\u001B[0m\u001B[1;33m\u001B[0m\u001B[0m\n\u001B[0;32m    207\u001B[0m       \u001B[0mself\u001B[0m\u001B[1;33m.\u001B[0m\u001B[0m_self_setattr_tracking\u001B[0m \u001B[1;33m=\u001B[0m \u001B[0mprevious_value\u001B[0m  \u001B[1;31m# pylint: disable=protected-access\u001B[0m\u001B[1;33m\u001B[0m\u001B[1;33m\u001B[0m\u001B[0m\n",
      "\u001B[1;32m~\\anaconda3\\lib\\site-packages\\keras\\engine\\functional.py\u001B[0m in \u001B[0;36m_init_graph_network\u001B[1;34m(self, inputs, outputs)\u001B[0m\n\u001B[0;32m    262\u001B[0m \u001B[1;33m\u001B[0m\u001B[0m\n\u001B[0;32m    263\u001B[0m         \u001B[1;31m# Keep track of the network's nodes and layers.\u001B[0m\u001B[1;33m\u001B[0m\u001B[1;33m\u001B[0m\u001B[0m\n\u001B[1;32m--> 264\u001B[1;33m         nodes, nodes_by_depth, layers, _ = _map_graph_network(\n\u001B[0m\u001B[0;32m    265\u001B[0m             \u001B[0mself\u001B[0m\u001B[1;33m.\u001B[0m\u001B[0minputs\u001B[0m\u001B[1;33m,\u001B[0m \u001B[0mself\u001B[0m\u001B[1;33m.\u001B[0m\u001B[0moutputs\u001B[0m\u001B[1;33m\u001B[0m\u001B[1;33m\u001B[0m\u001B[0m\n\u001B[0;32m    266\u001B[0m         )\n",
      "\u001B[1;32m~\\anaconda3\\lib\\site-packages\\keras\\engine\\functional.py\u001B[0m in \u001B[0;36m_map_graph_network\u001B[1;34m(inputs, outputs)\u001B[0m\n\u001B[0;32m   1126\u001B[0m                 \u001B[1;32mfor\u001B[0m \u001B[0mx\u001B[0m \u001B[1;32min\u001B[0m \u001B[0mtf\u001B[0m\u001B[1;33m.\u001B[0m\u001B[0mnest\u001B[0m\u001B[1;33m.\u001B[0m\u001B[0mflatten\u001B[0m\u001B[1;33m(\u001B[0m\u001B[0mnode\u001B[0m\u001B[1;33m.\u001B[0m\u001B[0mkeras_inputs\u001B[0m\u001B[1;33m)\u001B[0m\u001B[1;33m:\u001B[0m\u001B[1;33m\u001B[0m\u001B[1;33m\u001B[0m\u001B[0m\n\u001B[0;32m   1127\u001B[0m                     \u001B[1;32mif\u001B[0m \u001B[0mid\u001B[0m\u001B[1;33m(\u001B[0m\u001B[0mx\u001B[0m\u001B[1;33m)\u001B[0m \u001B[1;32mnot\u001B[0m \u001B[1;32min\u001B[0m \u001B[0mcomputable_tensors\u001B[0m\u001B[1;33m:\u001B[0m\u001B[1;33m\u001B[0m\u001B[1;33m\u001B[0m\u001B[0m\n\u001B[1;32m-> 1128\u001B[1;33m                         raise ValueError(\n\u001B[0m\u001B[0;32m   1129\u001B[0m                             \u001B[1;34mf\"Graph disconnected: cannot obtain value for \"\u001B[0m\u001B[1;33m\u001B[0m\u001B[1;33m\u001B[0m\u001B[0m\n\u001B[0;32m   1130\u001B[0m                             \u001B[1;34mf'tensor {x} at layer \"{layer.name}\". '\u001B[0m\u001B[1;33m\u001B[0m\u001B[1;33m\u001B[0m\u001B[0m\n",
      "\u001B[1;31mValueError\u001B[0m: Graph disconnected: cannot obtain value for tensor KerasTensor(type_spec=TensorSpec(shape=(None, 100, 100, 3), dtype=tf.float32, name='input_3'), name='input_3', description=\"created by layer 'input_3'\") at layer \"block1_conv1\". The following previous layers were accessed without issue: []"
     ]
    }
   ],
   "source": [
    "import tensorflow as tf\n",
    "for data_batch, label_batch in train_generator:\n",
    "    print('data batch shape', data_batch.shape)\n",
    "    print('label batch shape', label_batch.shape)\n",
    "    print('sample data shape', data_batch[1].shape)\n",
    "    #print('sample 20 labels', label_batch)\n",
    "\n",
    "    break\n",
    "\n",
    "layer_outputs = [layer.output for layer in network.layers]\n",
    "activations_model = models.Model(inputs=network.input, outputs = layer_outputs)\n",
    "activations = activations_model.predict(train_generator)\n",
    "\n",
    "# collect images in list\n",
    "\n",
    "no_maps = np.shape(activations['flatten'])[-1]\n",
    "print(\"layer %d, no maps %d\"%('flatten', no_maps))\n",
    "fmaps =activations['flatten']\n",
    "img_list = []\n",
    "for i in range(no_maps):\n",
    "    img = fmaps[0,:,:,i]\n",
    "    img_list.append(img)\n",
    "\n",
    "#    display images in no_cols\n",
    "no_cols = 3\n",
    "no_rows = no_maps // no_cols\n",
    "i = 0\n",
    "for row in range(no_rows):\n",
    "    fig, axs = plt.subplots(1, no_cols,figsize=(18,18))\n",
    "    for col in range(no_cols):\n",
    "        axs[col].axis('off')\n",
    "        axs[col].imshow(img_list[i])\n",
    "        axs[col].set_title(str(i))\n",
    "        i +=1\n",
    "\n",
    "    plt.show()"
   ],
   "metadata": {
    "collapsed": false
   }
  },
  {
   "cell_type": "code",
   "execution_count": null,
   "outputs": [],
   "source": [],
   "metadata": {
    "collapsed": false
   }
  }
 ],
 "metadata": {
  "kernelspec": {
   "display_name": "Python 3",
   "language": "python",
   "name": "python3"
  },
  "language_info": {
   "codemirror_mode": {
    "name": "ipython",
    "version": 2
   },
   "file_extension": ".py",
   "mimetype": "text/x-python",
   "name": "python",
   "nbconvert_exporter": "python",
   "pygments_lexer": "ipython2",
   "version": "2.7.6"
  }
 },
 "nbformat": 4,
 "nbformat_minor": 0
}
